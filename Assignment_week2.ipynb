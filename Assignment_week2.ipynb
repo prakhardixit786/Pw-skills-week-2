{
 "cells": [
  {
   "cell_type": "markdown",
   "id": "c38f834f-cbd9-4211-a4b5-d1c9ce088982",
   "metadata": {},
   "source": [
    "Q1. How do you comment code in Python? What are the different types of comments?"
   ]
  },
  {
   "cell_type": "markdown",
   "id": "7b679a26-ac16-4d76-8ad6-4bfd4be466e6",
   "metadata": {},
   "source": [
    "Ans. Comments is a feature in python which helps coder or an another 3rd\n",
    "person to understand the code easily.\n",
    "\n",
    "There are  2 types of comment in python\n",
    "\n",
    "1. Single line comment\n",
    "#This is an example of single liner comment in which we use '#' this symbol\n",
    "for short comments.\n",
    "\n",
    "2. Multi line commment\n",
    "\n",
    "\"\"\"this is an example of multi line comment in which we use quotation mark 3 times.\"\"\""
   ]
  },
  {
   "cell_type": "markdown",
   "id": "38b5c945-4868-4c81-b4aa-5ce879d2c658",
   "metadata": {},
   "source": [
    "Q2. What are variables in Python? How do you declare and assign values to variables?"
   ]
  },
  {
   "cell_type": "code",
   "execution_count": 2,
   "id": "6d81d3f8-74b9-4d24-9f7a-e99b07ed4e63",
   "metadata": {},
   "outputs": [
    {
     "name": "stdout",
     "output_type": "stream",
     "text": [
      "15\n"
     ]
    }
   ],
   "source": [
    "'''Variable is a type of thing in python in which we can assign a value\n",
    "and can use it anytime throughout the code.'''\n",
    "\n",
    "#Example:\n",
    "\n",
    "pw_skills = 15\n",
    "print(pw_skills)\n",
    "#output = 15\n",
    "\n",
    "#In the above code pw_skills is a variable and we assigned 15 to it."
   ]
  },
  {
   "cell_type": "markdown",
   "id": "9d7095e5-2d61-4e00-a6f2-bd705edfd58b",
   "metadata": {},
   "source": [
    "Q3. How do you convert one data type to another in Python?"
   ]
  },
  {
   "cell_type": "code",
   "execution_count": 6,
   "id": "8e1087ad-d92f-4e12-91dc-c26b374dba92",
   "metadata": {},
   "outputs": [
    {
     "name": "stdout",
     "output_type": "stream",
     "text": [
      "True\n"
     ]
    }
   ],
   "source": [
    "'''Python can convert one data type to another data type using built-in \n",
    "functions'''\n",
    "\n",
    "#example\n",
    "a = 15\n",
    "a = bool(15)\n",
    "print(a)\n",
    "\n",
    "#output = True"
   ]
  },
  {
   "cell_type": "markdown",
   "id": "5922f435-b69d-401f-b34a-8b10602555a6",
   "metadata": {},
   "source": [
    "Q4. How do you write and execute a Python script from the command line?"
   ]
  },
  {
   "cell_type": "markdown",
   "id": "26d11761-ea51-4d5c-ba7b-940e8a19c575",
   "metadata": {},
   "source": [
    "You can write and execute a Python script from the command line by using \n",
    "these steps\n",
    "\n",
    "1. Open a text editor (Vs code, Pycharm etc) and create a file using .py in title.\n",
    "2. Write a correct Python code and Run it by using shortcut key or run button."
   ]
  },
  {
   "cell_type": "markdown",
   "id": "46147de0-d5f3-427d-b060-67e78c584390",
   "metadata": {},
   "source": [
    "Q5. Given a list my_list = [1, 2, 3, 4, 5], write the code to slice the list and obtain the sub-list [2, 3]."
   ]
  },
  {
   "cell_type": "code",
   "execution_count": 10,
   "id": "b449005b-f6e0-4ff8-89b2-a8de2097a7d6",
   "metadata": {},
   "outputs": [
    {
     "name": "stdout",
     "output_type": "stream",
     "text": [
      "[2, 3]\n"
     ]
    }
   ],
   "source": [
    "my_list = [1, 2, 3, 4, 5]\n",
    "sub_list = my_list[1:3]\n",
    "print(sub_list)\n",
    "\n",
    "#output = [2,3]"
   ]
  },
  {
   "cell_type": "markdown",
   "id": "c5e29f40-ac96-4e6f-804b-feb43dc0d1ad",
   "metadata": {},
   "source": [
    "Q6. What is a complex number in mathematics, and how is it represented in Python?"
   ]
  },
  {
   "cell_type": "code",
   "execution_count": 12,
   "id": "1fa6a24d-7ea6-4ec9-ab89-0bd8a11ad5f0",
   "metadata": {},
   "outputs": [
    {
     "name": "stdout",
     "output_type": "stream",
     "text": [
      "(4+6j)\n"
     ]
    }
   ],
   "source": [
    "'''\n",
    "Complex number can be written as a + bj in which 'a' is real part \n",
    "'b' is an imaginary part and 'j' is imaginary part.\n",
    "'''\n",
    "#Example of complex number\n",
    "I = 4 + 6j\n",
    "print (I)\n",
    "# output = 4 + 6j"
   ]
  },
  {
   "cell_type": "markdown",
   "id": "e52b4923-65a0-4302-bd3d-319fc665370c",
   "metadata": {},
   "source": [
    "Q7. What is the correct way to declare a variable named age and assign the value 25 to it?"
   ]
  },
  {
   "cell_type": "code",
   "execution_count": 15,
   "id": "3927a2c1-5dd6-4ce4-8614-f4eb21563328",
   "metadata": {},
   "outputs": [
    {
     "name": "stdout",
     "output_type": "stream",
     "text": [
      "90\n"
     ]
    }
   ],
   "source": [
    "age = 90\n",
    "print(age)\n",
    "#In the above code \"age\" is variable and \"25\" is numeric value"
   ]
  },
  {
   "cell_type": "markdown",
   "id": "d67d1b18-0ff1-4c18-9b22-d7f81e3e0e51",
   "metadata": {},
   "source": [
    "Q8. Declare a variable named price and assign the value 9.99 to it. What data type does this variable\n",
    "belong to?"
   ]
  },
  {
   "cell_type": "code",
   "execution_count": 16,
   "id": "14093281-9f1d-4798-9ae2-d41868030e62",
   "metadata": {},
   "outputs": [
    {
     "name": "stdout",
     "output_type": "stream",
     "text": [
      "9.99\n"
     ]
    }
   ],
   "source": [
    "price = 9.99\n",
    "print(price)\n",
    "#The data type of '9.99' is float."
   ]
  },
  {
   "cell_type": "markdown",
   "id": "1a90a6f3-2c87-4e86-9aa4-81732e50bfaa",
   "metadata": {},
   "source": [
    "Q9. Create a variable named name and assign your full name to it as a string. How would you print the\n",
    "value of this variable?"
   ]
  },
  {
   "cell_type": "code",
   "execution_count": 20,
   "id": "a3f8c8ce-4366-4b77-bd91-e6c0645c3cbd",
   "metadata": {},
   "outputs": [
    {
     "name": "stdout",
     "output_type": "stream",
     "text": [
      "prakhar dixit\n"
     ]
    }
   ],
   "source": [
    "name = \"prakhar dixit\"\n",
    "print(name)"
   ]
  },
  {
   "cell_type": "markdown",
   "id": "e0aef740-a1be-4d60-95a4-88e58e522541",
   "metadata": {},
   "source": [
    "Q10. Given the string \"Hello, World!\", extract the substring \"World\"."
   ]
  },
  {
   "cell_type": "code",
   "execution_count": 27,
   "id": "7ce5c32f-4846-4f2b-943d-ad6ef015e948",
   "metadata": {},
   "outputs": [
    {
     "name": "stdout",
     "output_type": "stream",
     "text": [
      "World\n"
     ]
    }
   ],
   "source": [
    "#given string\n",
    "given_string = \"Hello, World\"\n",
    "\n",
    "#extract substring through slicing\n",
    "sub_string = given_string[7:12]\n",
    "\n",
    "print(sub_string)"
   ]
  },
  {
   "cell_type": "markdown",
   "id": "18f6b57d-39dd-4294-af1b-98d042470a20",
   "metadata": {},
   "source": [
    "Q11. Create a variable named \"is_student\" and assign it a boolean value indicating whether you are\n",
    "currently a student or not."
   ]
  },
  {
   "cell_type": "code",
   "execution_count": 28,
   "id": "19ff098b-29cb-46c5-9b9f-621a0d44ce06",
   "metadata": {},
   "outputs": [
    {
     "name": "stdout",
     "output_type": "stream",
     "text": [
      "You are currently a student.\n"
     ]
    }
   ],
   "source": [
    "is_student = True\n",
    "\n",
    "if is_student:\n",
    "    print(\"You are currently a student.\")\n",
    "else:\n",
    "    print(\"You are not currently a student.\")"
   ]
  },
  {
   "cell_type": "code",
   "execution_count": null,
   "id": "d0f358c5-c046-4bd3-9d95-be2781a07c57",
   "metadata": {},
   "outputs": [],
   "source": []
  }
 ],
 "metadata": {
  "kernelspec": {
   "display_name": "Python 3 (ipykernel)",
   "language": "python",
   "name": "python3"
  },
  "language_info": {
   "codemirror_mode": {
    "name": "ipython",
    "version": 3
   },
   "file_extension": ".py",
   "mimetype": "text/x-python",
   "name": "python",
   "nbconvert_exporter": "python",
   "pygments_lexer": "ipython3",
   "version": "3.10.8"
  }
 },
 "nbformat": 4,
 "nbformat_minor": 5
}
